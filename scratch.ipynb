{
 "cells": [
  {
   "cell_type": "code",
   "execution_count": 1,
   "id": "initial_id",
   "metadata": {
    "collapsed": true,
    "ExecuteTime": {
     "end_time": "2024-02-22T21:59:41.544688Z",
     "start_time": "2024-02-22T21:59:40.491390Z"
    }
   },
   "outputs": [],
   "source": [
    "import datetime\n",
    "\n",
    "from src import gmail_client, llm_client, db_client"
   ]
  },
  {
   "cell_type": "code",
   "outputs": [],
   "source": [
    "mail = gmail_client.GmailClient(credentials_path='./secret/credentials.json')"
   ],
   "metadata": {
    "collapsed": false,
    "ExecuteTime": {
     "end_time": "2024-02-22T21:59:43.160124Z",
     "start_time": "2024-02-22T21:59:43.153388Z"
    }
   },
   "id": "66437ebc0222345a",
   "execution_count": 2
  },
  {
   "cell_type": "code",
   "outputs": [
    {
     "name": "stdout",
     "output_type": "stream",
     "text": [
      "42\n"
     ]
    }
   ],
   "source": [
    "emails = mail.fetch_new_unread_emails()\n",
    "print(len(emails))"
   ],
   "metadata": {
    "collapsed": false,
    "ExecuteTime": {
     "end_time": "2024-02-22T21:47:25.729031Z",
     "start_time": "2024-02-22T21:47:19.490352Z"
    }
   },
   "id": "a0802dd30d116082",
   "execution_count": 6
  },
  {
   "cell_type": "code",
   "outputs": [],
   "source": [
    "target_date = datetime.date(2024, 2, 20)\n",
    "emails = mail.fetch_all_emails_by_date(target_date)"
   ],
   "metadata": {
    "collapsed": false,
    "ExecuteTime": {
     "end_time": "2024-02-22T21:59:45.209714Z",
     "start_time": "2024-02-22T21:59:44.857758Z"
    }
   },
   "id": "aef3d962de6358c9",
   "execution_count": 3
  },
  {
   "cell_type": "code",
   "outputs": [
    {
     "data": {
      "text/plain": "56"
     },
     "execution_count": 4,
     "metadata": {},
     "output_type": "execute_result"
    }
   ],
   "source": [
    "len(emails)"
   ],
   "metadata": {
    "collapsed": false,
    "ExecuteTime": {
     "end_time": "2024-02-22T21:59:54.012832Z",
     "start_time": "2024-02-22T21:59:54.010544Z"
    }
   },
   "id": "cc66f81810f83d3",
   "execution_count": 4
  },
  {
   "cell_type": "code",
   "outputs": [
    {
     "data": {
      "text/plain": "{'id': '18dc8e237cc4a9b7', 'threadId': '18dc8e237cc4a9b7'}"
     },
     "execution_count": 5,
     "metadata": {},
     "output_type": "execute_result"
    }
   ],
   "source": [
    "emails[0]"
   ],
   "metadata": {
    "collapsed": false,
    "ExecuteTime": {
     "end_time": "2024-02-22T21:59:59.422921Z",
     "start_time": "2024-02-22T21:59:59.419106Z"
    }
   },
   "id": "e596f9cfc386d49e",
   "execution_count": 5
  },
  {
   "cell_type": "code",
   "outputs": [],
   "source": [
    "email_data = mail.extract_email_data(emails[0]['id'])"
   ],
   "metadata": {
    "collapsed": false,
    "ExecuteTime": {
     "end_time": "2024-02-22T22:01:49.537557Z",
     "start_time": "2024-02-22T22:01:49.308573Z"
    }
   },
   "id": "743b0439e68334ef",
   "execution_count": 8
  },
  {
   "cell_type": "code",
   "outputs": [
    {
     "data": {
      "text/plain": "\"No images?  Click here https://sportscarclubofamerica.cmail20.com/t/t-e-ephylt-ykuuljtys-yk/\\r\\n\\r\\n                  FIND EVENTS [https://www.scca.com/pages/find-your-fun]                  MEMBER NOTICE: BYLAWS VOTING OPEN        VOTE NOW [https://www.scca.com/articles/2018160-member-notice-special-scca-vote-coming-soon]              Buttonwillow Super Tour: At A Glance\\r\\n\\r\\nWith eyes set on sunny California, the Hoosier SCCA Super Tour is poised to heat things up at Buttonwillow Raceway Park. Here's how to watch...\\r\\n\\r\\nREAD MORE [https://www.scca.com/articles/2018197-24-buttonwillow-hoosier-super-tour-at-a-glance]\\r\\n\\r\\nFeatured Video\\r\\n\\r\\nWith tuning knowhow, speed is easy to build. Guy Ankeny reveals how to dial in a truly fast car.\\r\\n\\r\\nWATCH VIDEO [https://www.youtube.com/watch?v=RcrdqkUTwT4]                                  Region Development Grant: Act Now\\r\\n\\r\\nSCCA Foundation's Region Development Grant deadline is nearing. Apply today!\\r\\n\\r\\nREAD MORE [https://www.scca.com/articles/2018182-reminder-region-development-grant-deadline-nears]             Top 5 Must-Haves for Every Autocrosser\\r\\n\\r\\nNot sure what to bring to your first autocross? These essentials will keep you covered.\\r\\n\\r\\nREAD MORE [https://www.scca.com/articles/2018185-5-things-drivers-need-in-the-paddock-at-an-autocross]                                 Videos That Are Fun For Days\\r\\n\\r\\nFor a good time, combine Hagerty videos and SCCA pro Randy Pobst.\\r\\n\\r\\nREAD MORE [https://www.scca.com/articles/2018169-hagerty-videos-that-are-fun-for-days]             RACER Fills Your Pro News Needs\\r\\n\\r\\nSCCA partner RACER's Daily Bulletin brings pro racing news to your inbox...daily.\\r\\n\\r\\nREAD MORE [https://www.scca.com/articles/2018174-keep-up-on-professional-racing-with-this-free-tool]             NOLA Hoosier Super Tour: Recap\\r\\n\\r\\nFind out what happened when the Super Tour returned to The Big Easy.\\r\\n\\r\\nREAD MORE [https://www.scca.com/search/tags/24%20NOLA%20News?page=1&utm_campaign=2024_022_Up-To-Speed_Newsletter&utm_content=2024_0222_Up-To-Speed_Newsletter+CID_558e9a37e80274d8a9b7ec93a9bc760e&utm_medium=email&utm_source=CM&utm_term=READ+MORE&_=1708441340681&utm_medium=email&utm_campaign=2024_0220_Up-To-Speed_Newsletter&utm_content=2024_0220_Up-To-Speed_Newsletter+Preview+CID_c0f96bd59ca82d22c22c5dad96e00175&utm_source=CM&utm_term=READ%20MORE]              SEE IT ALL AT SCCA.COM [https://www.scca.com/articles]                                   PROGRAM UPDATES                                                                             PARTNER BENEFIT SPOTLIGHT                                                                                                     OFFICIAL SCCA PARTNERS                                                    ABOUT SCCA PARTNERS [https://www.scca.com/pages/official-partners]                    [http://www.scca.com]                        Sports Car Club of America, Inc.\\r\\n\\r\\n6620 SE Dwight St.  |  Topeka, KS  66619   You're receiving this email because you are a current customer of SCCA, either in membership, event participation or activity in your account on our website(s).     Preferences https://sportscarclubofamerica.updatemyprofile.com/t-ephylt-CE9A5032-ykuuljtys-yu  |   Unsubscribe https://sportscarclubofamerica.cmail20.com/t/t-u-ephylt-ykuuljtys-jl/\\r\\n\""
     },
     "execution_count": 11,
     "metadata": {},
     "output_type": "execute_result"
    }
   ],
   "source": [
    "email_data[2]"
   ],
   "metadata": {
    "collapsed": false,
    "ExecuteTime": {
     "end_time": "2024-02-22T22:02:00.777447Z",
     "start_time": "2024-02-22T22:02:00.773495Z"
    }
   },
   "id": "3970084b086e37e0",
   "execution_count": 11
  }
 ],
 "metadata": {
  "kernelspec": {
   "display_name": "Python 3",
   "language": "python",
   "name": "python3"
  },
  "language_info": {
   "codemirror_mode": {
    "name": "ipython",
    "version": 2
   },
   "file_extension": ".py",
   "mimetype": "text/x-python",
   "name": "python",
   "nbconvert_exporter": "python",
   "pygments_lexer": "ipython2",
   "version": "2.7.6"
  }
 },
 "nbformat": 4,
 "nbformat_minor": 5
}
